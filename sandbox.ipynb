{
 "cells": [
  {
   "cell_type": "code",
   "execution_count": 1,
   "metadata": {},
   "outputs": [],
   "source": [
    "import numpy as np\n",
    "import pandas as pd\n",
    "import matplotlib.pyplot as plt\n",
    "from collections import defaultdict"
   ]
  },
  {
   "attachments": {},
   "cell_type": "markdown",
   "metadata": {},
   "source": [
    "Update таблиц и новые эмбеддинги"
   ]
  },
  {
   "cell_type": "code",
   "execution_count": 17,
   "metadata": {},
   "outputs": [],
   "source": [
    "from sentence_transformers import SentenceTransformer\n",
    "from sklearn.preprocessing import normalize\n",
    "import pickle\n",
    "\n",
    "model = SentenceTransformer('sentence-transformers/paraphrase-multilingual-MiniLM-L12-v2')"
   ]
  },
  {
   "cell_type": "code",
   "execution_count": 18,
   "metadata": {},
   "outputs": [
    {
     "ename": "TypeError",
     "evalue": "'float' object is not subscriptable",
     "output_type": "error",
     "traceback": [
      "\u001b[0;31m---------------------------------------------------------------------------\u001b[0m",
      "\u001b[0;31mTypeError\u001b[0m                                 Traceback (most recent call last)",
      "Cell \u001b[0;32mIn[18], line 17\u001b[0m\n\u001b[1;32m     14\u001b[0m food_df \u001b[39m=\u001b[39m pd\u001b[39m.\u001b[39mDataFrame(food_dict)\n\u001b[1;32m     15\u001b[0m food_df\u001b[39m.\u001b[39mto_csv(\u001b[39m'\u001b[39m\u001b[39mPlacesDatabase/food_places.csv\u001b[39m\u001b[39m'\u001b[39m)\n\u001b[0;32m---> 17\u001b[0m embeds \u001b[39m=\u001b[39m np\u001b[39m.\u001b[39marray(normalize(model\u001b[39m.\u001b[39;49mencode(contents)))\n\u001b[1;32m     18\u001b[0m \u001b[39mwith\u001b[39;00m \u001b[39mopen\u001b[39m(\u001b[39m'\u001b[39m\u001b[39mPlacesDatabase/shop_places.pb\u001b[39m\u001b[39m'\u001b[39m, \u001b[39m'\u001b[39m\u001b[39mwb\u001b[39m\u001b[39m'\u001b[39m) \u001b[39mas\u001b[39;00m f:\n\u001b[1;32m     19\u001b[0m     pickle\u001b[39m.\u001b[39mdump(embeds\u001b[39m.\u001b[39mastype(np\u001b[39m.\u001b[39mfloat16), f)\n",
      "File \u001b[0;32m~/anaconda3/lib/python3.10/site-packages/sentence_transformers/SentenceTransformer.py:161\u001b[0m, in \u001b[0;36mSentenceTransformer.encode\u001b[0;34m(self, sentences, batch_size, show_progress_bar, output_value, convert_to_numpy, convert_to_tensor, device, normalize_embeddings)\u001b[0m\n\u001b[1;32m    159\u001b[0m \u001b[39mfor\u001b[39;00m start_index \u001b[39min\u001b[39;00m trange(\u001b[39m0\u001b[39m, \u001b[39mlen\u001b[39m(sentences), batch_size, desc\u001b[39m=\u001b[39m\u001b[39m\"\u001b[39m\u001b[39mBatches\u001b[39m\u001b[39m\"\u001b[39m, disable\u001b[39m=\u001b[39m\u001b[39mnot\u001b[39;00m show_progress_bar):\n\u001b[1;32m    160\u001b[0m     sentences_batch \u001b[39m=\u001b[39m sentences_sorted[start_index:start_index\u001b[39m+\u001b[39mbatch_size]\n\u001b[0;32m--> 161\u001b[0m     features \u001b[39m=\u001b[39m \u001b[39mself\u001b[39;49m\u001b[39m.\u001b[39;49mtokenize(sentences_batch)\n\u001b[1;32m    162\u001b[0m     features \u001b[39m=\u001b[39m batch_to_device(features, device)\n\u001b[1;32m    164\u001b[0m     \u001b[39mwith\u001b[39;00m torch\u001b[39m.\u001b[39mno_grad():\n",
      "File \u001b[0;32m~/anaconda3/lib/python3.10/site-packages/sentence_transformers/SentenceTransformer.py:319\u001b[0m, in \u001b[0;36mSentenceTransformer.tokenize\u001b[0;34m(self, texts)\u001b[0m\n\u001b[1;32m    315\u001b[0m \u001b[39mdef\u001b[39;00m \u001b[39mtokenize\u001b[39m(\u001b[39mself\u001b[39m, texts: Union[List[\u001b[39mstr\u001b[39m], List[Dict], List[Tuple[\u001b[39mstr\u001b[39m, \u001b[39mstr\u001b[39m]]]):\n\u001b[1;32m    316\u001b[0m     \u001b[39m\"\"\"\u001b[39;00m\n\u001b[1;32m    317\u001b[0m \u001b[39m    Tokenizes the texts\u001b[39;00m\n\u001b[1;32m    318\u001b[0m \u001b[39m    \"\"\"\u001b[39;00m\n\u001b[0;32m--> 319\u001b[0m     \u001b[39mreturn\u001b[39;00m \u001b[39mself\u001b[39;49m\u001b[39m.\u001b[39;49m_first_module()\u001b[39m.\u001b[39;49mtokenize(texts)\n",
      "File \u001b[0;32m~/anaconda3/lib/python3.10/site-packages/sentence_transformers/models/Transformer.py:102\u001b[0m, in \u001b[0;36mTransformer.tokenize\u001b[0;34m(self, texts)\u001b[0m\n\u001b[1;32m    100\u001b[0m batch1, batch2 \u001b[39m=\u001b[39m [], []\n\u001b[1;32m    101\u001b[0m \u001b[39mfor\u001b[39;00m text_tuple \u001b[39min\u001b[39;00m texts:\n\u001b[0;32m--> 102\u001b[0m     batch1\u001b[39m.\u001b[39mappend(text_tuple[\u001b[39m0\u001b[39;49m])\n\u001b[1;32m    103\u001b[0m     batch2\u001b[39m.\u001b[39mappend(text_tuple[\u001b[39m1\u001b[39m])\n\u001b[1;32m    104\u001b[0m to_tokenize \u001b[39m=\u001b[39m [batch1, batch2]\n",
      "\u001b[0;31mTypeError\u001b[0m: 'float' object is not subscriptable"
     ]
    }
   ],
   "source": [
    "food = pd.read_csv('PlacesDatabase/food_places_raw.csv')\n",
    "food_dict = defaultdict(list)\n",
    "contents = []\n",
    "\n",
    "for i, row in enumerate(food.itertuples()):\n",
    "    food_dict['name'].append(row.name)\n",
    "    food_dict['address'].append(row.address)\n",
    "    food_dict['lon'].append(row.lon)\n",
    "    food_dict['lat'].append(row.lat)\n",
    "    content = row.name\n",
    "    food_dict['content'].append(content)\n",
    "    contents.append(content)\n",
    "\n",
    "food_df = pd.DataFrame(food_dict)\n",
    "food_df.to_csv('PlacesDatabase/food_places.csv')\n",
    "\n",
    "embeds = model.encode(contents)\n",
    "embeds = normalize(embeds)\n",
    "embeds = np.array(embeds)\n",
    "with open('PlacesDatabase/shop_places.pb', 'wb') as f:\n",
    "    pickle.dump(embeds.astype(np.float16), f)"
   ]
  },
  {
   "cell_type": "code",
   "execution_count": 15,
   "metadata": {},
   "outputs": [],
   "source": [
    "shops = pd.read_csv('PlacesDatabase/shop_places_raw.csv')\n",
    "shops_dict = defaultdict(list)\n",
    "contents = []\n",
    "\n",
    "for row in shops.itertuples():\n",
    "    geo_data = row.geoData\n",
    "    coords = geo_data.split(']')[0].split('[')[1].split(',')\n",
    "    lon, lat = coords[0], coords[1]\n",
    "    shops_dict['name'].append(row.Наименование)\n",
    "    shops_dict['address'].append(row.Адрес)\n",
    "    shops_dict['lon'].append(lon)\n",
    "    shops_dict['lat'].append(lat)\n",
    "    content = row.Наименование + ' ' + row.ВидУслуги +\\\n",
    "                                    ' ' + row.ВидОбъекта\n",
    "    shops_dict['content'].append(content)\n",
    "    contents.append(content)\n",
    "\n",
    "shops_df = pd.DataFrame(shops_dict)\n",
    "shops_df.to_csv('PlacesDatabase/shop_places.csv')"
   ]
  },
  {
   "cell_type": "code",
   "execution_count": null,
   "metadata": {},
   "outputs": [],
   "source": [
    "shop = pd.read_csv('PlacesDatabase/shop_places_raw.csv')\n",
    "food_dict = defaultdict(list)\n",
    "\n",
    "for i, row in enumerate(food.itertuples()):\n",
    "    food_dict['name'].append(row.name)\n",
    "    food_dict['address'].append(row.address)\n",
    "    food_dict['lon'].append(row.lon)\n",
    "    food_dict['lat'].append(row.lat)\n",
    "\n",
    "food_df = pd.DataFrame(food_dict)\n",
    "food_df.to_csv('PlacesDatabase/food_places.csv')"
   ]
  },
  {
   "cell_type": "code",
   "execution_count": null,
   "metadata": {},
   "outputs": [],
   "source": []
  },
  {
   "cell_type": "code",
   "execution_count": null,
   "metadata": {},
   "outputs": [],
   "source": []
  },
  {
   "attachments": {},
   "cell_type": "markdown",
   "metadata": {},
   "source": [
    "Трансформер"
   ]
  },
  {
   "cell_type": "code",
   "execution_count": 3,
   "metadata": {},
   "outputs": [
    {
     "data": {
      "application/vnd.jupyter.widget-view+json": {
       "model_id": "51eb5234827b44bdbfadce42fde25184",
       "version_major": 2,
       "version_minor": 0
      },
      "text/plain": [
       "Downloading:   0%|          | 0.00/968 [00:00<?, ?B/s]"
      ]
     },
     "metadata": {},
     "output_type": "display_data"
    },
    {
     "data": {
      "application/vnd.jupyter.widget-view+json": {
       "model_id": "9545da0029c841b8aaad723c15b466f6",
       "version_major": 2,
       "version_minor": 0
      },
      "text/plain": [
       "Downloading:   0%|          | 0.00/190 [00:00<?, ?B/s]"
      ]
     },
     "metadata": {},
     "output_type": "display_data"
    },
    {
     "data": {
      "application/vnd.jupyter.widget-view+json": {
       "model_id": "49c53e33c8fa41c08a002b6d6bf8a6c8",
       "version_major": 2,
       "version_minor": 0
      },
      "text/plain": [
       "Downloading:   0%|          | 0.00/3.79k [00:00<?, ?B/s]"
      ]
     },
     "metadata": {},
     "output_type": "display_data"
    },
    {
     "data": {
      "application/vnd.jupyter.widget-view+json": {
       "model_id": "decbc29a070b4885b3deb918708ee2ac",
       "version_major": 2,
       "version_minor": 0
      },
      "text/plain": [
       "Downloading:   0%|          | 0.00/645 [00:00<?, ?B/s]"
      ]
     },
     "metadata": {},
     "output_type": "display_data"
    },
    {
     "data": {
      "application/vnd.jupyter.widget-view+json": {
       "model_id": "77ded5c998a940439c56fcd18089fa62",
       "version_major": 2,
       "version_minor": 0
      },
      "text/plain": [
       "Downloading:   0%|          | 0.00/122 [00:00<?, ?B/s]"
      ]
     },
     "metadata": {},
     "output_type": "display_data"
    },
    {
     "data": {
      "application/vnd.jupyter.widget-view+json": {
       "model_id": "7682cf69a8b748d08885ee11b5cf00a7",
       "version_major": 2,
       "version_minor": 0
      },
      "text/plain": [
       "Downloading:   0%|          | 0.00/471M [00:00<?, ?B/s]"
      ]
     },
     "metadata": {},
     "output_type": "display_data"
    },
    {
     "data": {
      "application/vnd.jupyter.widget-view+json": {
       "model_id": "8f6eb098b3d34dc9beb393a9dfc87e28",
       "version_major": 2,
       "version_minor": 0
      },
      "text/plain": [
       "Downloading:   0%|          | 0.00/53.0 [00:00<?, ?B/s]"
      ]
     },
     "metadata": {},
     "output_type": "display_data"
    },
    {
     "data": {
      "application/vnd.jupyter.widget-view+json": {
       "model_id": "dd183b5615864997a25110c309ab2b59",
       "version_major": 2,
       "version_minor": 0
      },
      "text/plain": [
       "Downloading:   0%|          | 0.00/5.07M [00:00<?, ?B/s]"
      ]
     },
     "metadata": {},
     "output_type": "display_data"
    },
    {
     "data": {
      "application/vnd.jupyter.widget-view+json": {
       "model_id": "b987180a2d884c86a71e4a1b8aa896ff",
       "version_major": 2,
       "version_minor": 0
      },
      "text/plain": [
       "Downloading:   0%|          | 0.00/239 [00:00<?, ?B/s]"
      ]
     },
     "metadata": {},
     "output_type": "display_data"
    },
    {
     "data": {
      "application/vnd.jupyter.widget-view+json": {
       "model_id": "f4ade8b05879492a85ce7fe11adea522",
       "version_major": 2,
       "version_minor": 0
      },
      "text/plain": [
       "Downloading:   0%|          | 0.00/9.08M [00:00<?, ?B/s]"
      ]
     },
     "metadata": {},
     "output_type": "display_data"
    },
    {
     "data": {
      "application/vnd.jupyter.widget-view+json": {
       "model_id": "1263babe5a214cf8a199431cec7f92a9",
       "version_major": 2,
       "version_minor": 0
      },
      "text/plain": [
       "Downloading:   0%|          | 0.00/480 [00:00<?, ?B/s]"
      ]
     },
     "metadata": {},
     "output_type": "display_data"
    },
    {
     "data": {
      "application/vnd.jupyter.widget-view+json": {
       "model_id": "e4d0413a62a74b2a815212da021ff137",
       "version_major": 2,
       "version_minor": 0
      },
      "text/plain": [
       "Downloading:   0%|          | 0.00/14.8M [00:00<?, ?B/s]"
      ]
     },
     "metadata": {},
     "output_type": "display_data"
    },
    {
     "data": {
      "application/vnd.jupyter.widget-view+json": {
       "model_id": "f2ce5ed6b74d44c58fadd0e1e976a0bf",
       "version_major": 2,
       "version_minor": 0
      },
      "text/plain": [
       "Downloading:   0%|          | 0.00/229 [00:00<?, ?B/s]"
      ]
     },
     "metadata": {},
     "output_type": "display_data"
    },
    {
     "name": "stdout",
     "output_type": "stream",
     "text": [
      "3\n"
     ]
    }
   ],
   "source": [
    "from sentence_transformers import SentenceTransformer\n",
    "sentences = [\"Женя Моисеев молодец\", \"Число пи невычислимо\", \"Евгений Иванович Моисеев - лидер атаки\"]\n",
    "\n",
    "model = SentenceTransformer('sentence-transformers/paraphrase-multilingual-MiniLM-L12-v2')\n",
    "embeddings = model.encode(sentences)\n",
    "print(len(embeddings))"
   ]
  },
  {
   "cell_type": "code",
   "execution_count": 7,
   "metadata": {},
   "outputs": [
    {
     "data": {
      "text/plain": [
       "['одежда. обувь. промтовары',\n",
       " 'айковер',\n",
       " 'точка любви',\n",
       " 'магазин выпечка, пекарня',\n",
       " 'togas',\n",
       " 'крепежные инструменты',\n",
       " 'тд эльйон',\n",
       " 'ароматный мир',\n",
       " 'продукты',\n",
       " 'пятерочка']"
      ]
     },
     "execution_count": 7,
     "metadata": {},
     "output_type": "execute_result"
    }
   ],
   "source": [
    "sentences = [\"Женя Моисеев молодец\", \"Число пи невычислимо\", \"Евгений Иванович Моисеев - лидер атаки\"]\n",
    "\n",
    "df = pd.read_csv(\"PlacesDatabase/shop_places.csv\")\n",
    "sentences = [str(name).lower() for name in df.name]\n",
    "\n",
    "sentences[:10]"
   ]
  },
  {
   "cell_type": "code",
   "execution_count": 8,
   "metadata": {},
   "outputs": [
    {
     "data": {
      "text/html": [
       "<div>\n",
       "<style scoped>\n",
       "    .dataframe tbody tr th:only-of-type {\n",
       "        vertical-align: middle;\n",
       "    }\n",
       "\n",
       "    .dataframe tbody tr th {\n",
       "        vertical-align: top;\n",
       "    }\n",
       "\n",
       "    .dataframe thead th {\n",
       "        text-align: right;\n",
       "    }\n",
       "</style>\n",
       "<table border=\"1\" class=\"dataframe\">\n",
       "  <thead>\n",
       "    <tr style=\"text-align: right;\">\n",
       "      <th></th>\n",
       "      <th>Наименование</th>\n",
       "      <th>Является сетевым</th>\n",
       "      <th>Название управляющей компании</th>\n",
       "      <th>Вид услуги</th>\n",
       "      <th>Вид объекта</th>\n",
       "      <th>Административный округ</th>\n",
       "      <th>Район</th>\n",
       "      <th>Адрес</th>\n",
       "      <th>Контактный телефон</th>\n",
       "      <th>График работы</th>\n",
       "      <th>geoData</th>\n",
       "    </tr>\n",
       "  </thead>\n",
       "  <tbody>\n",
       "    <tr>\n",
       "      <th>0</th>\n",
       "      <td>Одежда. Обувь. Промтовары</td>\n",
       "      <td>нет</td>\n",
       "      <td>NaN</td>\n",
       "      <td>реализация непродовольственных товаров</td>\n",
       "      <td>Магазин «Промтовары»</td>\n",
       "      <td>Северный административный округ</td>\n",
       "      <td>район Беговой</td>\n",
       "      <td>город Москва, Беговая аллея, дом 3А</td>\n",
       "      <td>(977) 757-40-37</td>\n",
       "      <td>понедельник 09:30-21:30,вторник 09:30-21:30,ср...</td>\n",
       "      <td>{\"coordinates\":[37.564782,55.7833609999999],\"t...</td>\n",
       "    </tr>\n",
       "    <tr>\n",
       "      <th>1</th>\n",
       "      <td>АЙКОВЕР</td>\n",
       "      <td>нет</td>\n",
       "      <td>NaN</td>\n",
       "      <td>реализация непродовольственных товаров</td>\n",
       "      <td>Магазин-салон</td>\n",
       "      <td>Центральный административный округ</td>\n",
       "      <td>Тверской район</td>\n",
       "      <td>город Москва, Новослободская улица, дом 50/1, ...</td>\n",
       "      <td>(499) 250-12-40</td>\n",
       "      <td>понедельник 10:00-21:00,вторник 10:00-21:00,ср...</td>\n",
       "      <td>{\"coordinates\":[37.5948494823958,55.7865588638...</td>\n",
       "    </tr>\n",
       "    <tr>\n",
       "      <th>2</th>\n",
       "      <td>Точка любви</td>\n",
       "      <td>да</td>\n",
       "      <td>Точка любви</td>\n",
       "      <td>реализация непродовольственных товаров</td>\n",
       "      <td>Прочие специализированные непродовольственные ...</td>\n",
       "      <td>Северный административный округ</td>\n",
       "      <td>район Беговой</td>\n",
       "      <td>город Москва, Ленинградский проспект, дом 12</td>\n",
       "      <td>(925) 659-93-01</td>\n",
       "      <td>понедельник 10:00-22:00,вторник 10:00-22:00,ср...</td>\n",
       "      <td>{\"coordinates\":[37.5787834986412,55.7801880647...</td>\n",
       "    </tr>\n",
       "    <tr>\n",
       "      <th>3</th>\n",
       "      <td>Магазин Выпечка, пекарня</td>\n",
       "      <td>нет</td>\n",
       "      <td>NaN</td>\n",
       "      <td>реализация продовольственных товаров</td>\n",
       "      <td>Магазин «Продукты»</td>\n",
       "      <td>Южный административный округ</td>\n",
       "      <td>Даниловский район</td>\n",
       "      <td>город Москва, улица Даниловский Вал, дом 10</td>\n",
       "      <td>(499) 765-78-23</td>\n",
       "      <td>понедельник 08:00-19:00,вторник 08:00-19:00,ср...</td>\n",
       "      <td>{\"coordinates\":[37.6251772588661,55.7112005993...</td>\n",
       "    </tr>\n",
       "    <tr>\n",
       "      <th>4</th>\n",
       "      <td>Togas</td>\n",
       "      <td>да</td>\n",
       "      <td>Togas</td>\n",
       "      <td>реализация непродовольственных товаров</td>\n",
       "      <td>Магазин «Ткани»</td>\n",
       "      <td>Западный административный округ</td>\n",
       "      <td>район Раменки</td>\n",
       "      <td>город Москва, Мичуринский проспект, дом 22, ко...</td>\n",
       "      <td>(495) 932-98-56</td>\n",
       "      <td>понедельник 10:00-22:00,вторник 10:00-22:00,ср...</td>\n",
       "      <td>{\"coordinates\":[37.503886,55.7012649999999],\"t...</td>\n",
       "    </tr>\n",
       "  </tbody>\n",
       "</table>\n",
       "</div>"
      ],
      "text/plain": [
       "                Наименование Является сетевым Название управляющей компании  \\\n",
       "0  Одежда. Обувь. Промтовары              нет                           NaN   \n",
       "1                    АЙКОВЕР              нет                           NaN   \n",
       "2                Точка любви               да                   Точка любви   \n",
       "3   Магазин Выпечка, пекарня              нет                           NaN   \n",
       "4                      Togas               да                         Togas   \n",
       "\n",
       "                               Вид услуги  \\\n",
       "0  реализация непродовольственных товаров   \n",
       "1  реализация непродовольственных товаров   \n",
       "2  реализация непродовольственных товаров   \n",
       "3    реализация продовольственных товаров   \n",
       "4  реализация непродовольственных товаров   \n",
       "\n",
       "                                         Вид объекта  \\\n",
       "0                               Магазин «Промтовары»   \n",
       "1                                      Магазин-салон   \n",
       "2  Прочие специализированные непродовольственные ...   \n",
       "3                                 Магазин «Продукты»   \n",
       "4                                    Магазин «Ткани»   \n",
       "\n",
       "               Административный округ              Район  \\\n",
       "0     Северный административный округ      район Беговой   \n",
       "1  Центральный административный округ     Тверской район   \n",
       "2     Северный административный округ      район Беговой   \n",
       "3        Южный административный округ  Даниловский район   \n",
       "4     Западный административный округ      район Раменки   \n",
       "\n",
       "                                               Адрес Контактный телефон  \\\n",
       "0                город Москва, Беговая аллея, дом 3А    (977) 757-40-37   \n",
       "1  город Москва, Новослободская улица, дом 50/1, ...    (499) 250-12-40   \n",
       "2       город Москва, Ленинградский проспект, дом 12    (925) 659-93-01   \n",
       "3        город Москва, улица Даниловский Вал, дом 10    (499) 765-78-23   \n",
       "4  город Москва, Мичуринский проспект, дом 22, ко...    (495) 932-98-56   \n",
       "\n",
       "                                       График работы  \\\n",
       "0  понедельник 09:30-21:30,вторник 09:30-21:30,ср...   \n",
       "1  понедельник 10:00-21:00,вторник 10:00-21:00,ср...   \n",
       "2  понедельник 10:00-22:00,вторник 10:00-22:00,ср...   \n",
       "3  понедельник 08:00-19:00,вторник 08:00-19:00,ср...   \n",
       "4  понедельник 10:00-22:00,вторник 10:00-22:00,ср...   \n",
       "\n",
       "                                             geoData  \n",
       "0  {\"coordinates\":[37.564782,55.7833609999999],\"t...  \n",
       "1  {\"coordinates\":[37.5948494823958,55.7865588638...  \n",
       "2  {\"coordinates\":[37.5787834986412,55.7801880647...  \n",
       "3  {\"coordinates\":[37.6251772588661,55.7112005993...  \n",
       "4  {\"coordinates\":[37.503886,55.7012649999999],\"t...  "
      ]
     },
     "execution_count": 8,
     "metadata": {},
     "output_type": "execute_result"
    }
   ],
   "source": [
    "df = pd.read_csv(\"PlacesDatabase/shop_places_raw.csv\")\n",
    "df.head()"
   ]
  },
  {
   "cell_type": "code",
   "execution_count": null,
   "metadata": {},
   "outputs": [],
   "source": []
  }
 ],
 "metadata": {
  "kernelspec": {
   "display_name": "base",
   "language": "python",
   "name": "python3"
  },
  "language_info": {
   "codemirror_mode": {
    "name": "ipython",
    "version": 3
   },
   "file_extension": ".py",
   "mimetype": "text/x-python",
   "name": "python",
   "nbconvert_exporter": "python",
   "pygments_lexer": "ipython3",
   "version": "3.10.9"
  },
  "orig_nbformat": 4
 },
 "nbformat": 4,
 "nbformat_minor": 2
}
